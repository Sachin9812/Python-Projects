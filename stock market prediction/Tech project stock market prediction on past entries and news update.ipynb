{
 "cells": [
  {
   "cell_type": "code",
   "execution_count": 1,
   "metadata": {},
   "outputs": [],
   "source": [
    "import pandas as pd\n",
    "import numpy as np\n",
    "from sklearn.preprocessing import StandardScaler \n",
    "from sklearn.preprocessing import minmax_scale"
   ]
  },
  {
   "cell_type": "code",
   "execution_count": 2,
   "metadata": {},
   "outputs": [],
   "source": [
    "amzn = pd.read_csv(\"D:/Technocolabs/Predicting-stock-prices-for-large-cap-technology-companies-DS-II-main/Datasets of Stocks Market and Stock News Articles/NASDAQ Datasets/Nasdaq Stocks/HistoricalData_AMZN.csv\",parse_dates=['Date'],index_col=['Date'])\n",
    "apple = pd.read_csv(\"D:/Technocolabs/Predicting-stock-prices-for-large-cap-technology-companies-DS-II-main/Datasets of Stocks Market and Stock News Articles/NASDAQ Datasets/Nasdaq Stocks/HistoricalData_APPLE.csv\",parse_dates=['Date'],index_col=['Date'])\n",
    "csco = pd.read_csv(\"D:/Technocolabs/Predicting-stock-prices-for-large-cap-technology-companies-DS-II-main/Datasets of Stocks Market and Stock News Articles/NASDAQ Datasets/Nasdaq Stocks/HistoricalData_CSCO.csv\",parse_dates=['Date'],index_col=['Date'])\n",
    "fb = pd.read_csv(\"D:/Technocolabs/Predicting-stock-prices-for-large-cap-technology-companies-DS-II-main/Datasets of Stocks Market and Stock News Articles/NASDAQ Datasets/Nasdaq Stocks/HistoricalData_FB.csv\",parse_dates=['Date'],index_col=['Date'])\n",
    "qcom = pd.read_csv(\"D:/Technocolabs/Predicting-stock-prices-for-large-cap-technology-companies-DS-II-main/Datasets of Stocks Market and Stock News Articles/NASDAQ Datasets/Nasdaq Stocks/HistoricalData_QCOM.csv\",parse_dates=['Date'],index_col=['Date'])\n",
    "sbux = pd.read_csv(\"D:/Technocolabs/Predicting-stock-prices-for-large-cap-technology-companies-DS-II-main/Datasets of Stocks Market and Stock News Articles/NASDAQ Datasets/Nasdaq Stocks/HistoricalData_SBUX.csv\",index_col=['Date'])\n",
    "tesla = pd.read_csv(\"D:/Technocolabs/Predicting-stock-prices-for-large-cap-technology-companies-DS-II-main/Datasets of Stocks Market and Stock News Articles/NASDAQ Datasets/Nasdaq Stocks/HistoricalData_TSLA.csv\",index_col=['Date'])\n",
    "msft = pd.read_csv(\"D:/Technocolabs/Predicting-stock-prices-for-large-cap-technology-companies-DS-II-main/Datasets of Stocks Market and Stock News Articles/NASDAQ Datasets/Nasdaq Stocks/MSFT.csv\",index_col=['Date'])\n",
    "\n"
   ]
  },
  {
   "cell_type": "code",
   "execution_count": 3,
   "metadata": {},
   "outputs": [
    {
     "data": {
      "text/html": [
       "<div>\n",
       "<style scoped>\n",
       "    .dataframe tbody tr th:only-of-type {\n",
       "        vertical-align: middle;\n",
       "    }\n",
       "\n",
       "    .dataframe tbody tr th {\n",
       "        vertical-align: top;\n",
       "    }\n",
       "\n",
       "    .dataframe thead th {\n",
       "        text-align: right;\n",
       "    }\n",
       "</style>\n",
       "<table border=\"1\" class=\"dataframe\">\n",
       "  <thead>\n",
       "    <tr style=\"text-align: right;\">\n",
       "      <th></th>\n",
       "      <th>Close/Last</th>\n",
       "      <th>Volume</th>\n",
       "      <th>Open</th>\n",
       "      <th>High</th>\n",
       "      <th>Low</th>\n",
       "    </tr>\n",
       "    <tr>\n",
       "      <th>Date</th>\n",
       "      <th></th>\n",
       "      <th></th>\n",
       "      <th></th>\n",
       "      <th></th>\n",
       "      <th></th>\n",
       "    </tr>\n",
       "  </thead>\n",
       "  <tbody>\n",
       "    <tr>\n",
       "      <th>2021-06-09</th>\n",
       "      <td>$127.13</td>\n",
       "      <td>56877940</td>\n",
       "      <td>$127.21</td>\n",
       "      <td>$127.75</td>\n",
       "      <td>$126.52</td>\n",
       "    </tr>\n",
       "    <tr>\n",
       "      <th>2021-06-08</th>\n",
       "      <td>$126.74</td>\n",
       "      <td>74403770</td>\n",
       "      <td>$126.6</td>\n",
       "      <td>$128.46</td>\n",
       "      <td>$126.2101</td>\n",
       "    </tr>\n",
       "    <tr>\n",
       "      <th>2021-06-07</th>\n",
       "      <td>$125.9</td>\n",
       "      <td>71057550</td>\n",
       "      <td>$126.17</td>\n",
       "      <td>$126.32</td>\n",
       "      <td>$124.8321</td>\n",
       "    </tr>\n",
       "    <tr>\n",
       "      <th>2021-06-04</th>\n",
       "      <td>$125.89</td>\n",
       "      <td>75169340</td>\n",
       "      <td>$124.07</td>\n",
       "      <td>$126.16</td>\n",
       "      <td>$123.85</td>\n",
       "    </tr>\n",
       "    <tr>\n",
       "      <th>2021-06-03</th>\n",
       "      <td>$123.54</td>\n",
       "      <td>76229170</td>\n",
       "      <td>$124.68</td>\n",
       "      <td>$124.85</td>\n",
       "      <td>$123.13</td>\n",
       "    </tr>\n",
       "  </tbody>\n",
       "</table>\n",
       "</div>"
      ],
      "text/plain": [
       "           Close/Last    Volume     Open     High        Low\n",
       "Date                                                        \n",
       "2021-06-09    $127.13  56877940  $127.21  $127.75    $126.52\n",
       "2021-06-08    $126.74  74403770   $126.6  $128.46  $126.2101\n",
       "2021-06-07     $125.9  71057550  $126.17  $126.32  $124.8321\n",
       "2021-06-04    $125.89  75169340  $124.07  $126.16    $123.85\n",
       "2021-06-03    $123.54  76229170  $124.68  $124.85    $123.13"
      ]
     },
     "execution_count": 3,
     "metadata": {},
     "output_type": "execute_result"
    }
   ],
   "source": [
    "apple.head()"
   ]
  },
  {
   "cell_type": "code",
   "execution_count": 4,
   "metadata": {},
   "outputs": [
    {
     "data": {
      "text/html": [
       "<div>\n",
       "<style scoped>\n",
       "    .dataframe tbody tr th:only-of-type {\n",
       "        vertical-align: middle;\n",
       "    }\n",
       "\n",
       "    .dataframe tbody tr th {\n",
       "        vertical-align: top;\n",
       "    }\n",
       "\n",
       "    .dataframe thead th {\n",
       "        text-align: right;\n",
       "    }\n",
       "</style>\n",
       "<table border=\"1\" class=\"dataframe\">\n",
       "  <thead>\n",
       "    <tr style=\"text-align: right;\">\n",
       "      <th></th>\n",
       "      <th>Close/Last</th>\n",
       "      <th>Volume</th>\n",
       "      <th>Open</th>\n",
       "      <th>High</th>\n",
       "      <th>Low</th>\n",
       "    </tr>\n",
       "    <tr>\n",
       "      <th>Date</th>\n",
       "      <th></th>\n",
       "      <th></th>\n",
       "      <th></th>\n",
       "      <th></th>\n",
       "      <th></th>\n",
       "    </tr>\n",
       "  </thead>\n",
       "  <tbody>\n",
       "    <tr>\n",
       "      <th>2021-06-09</th>\n",
       "      <td>$54.02</td>\n",
       "      <td>14861230</td>\n",
       "      <td>$54.18</td>\n",
       "      <td>$54.42</td>\n",
       "      <td>$53.935</td>\n",
       "    </tr>\n",
       "    <tr>\n",
       "      <th>2021-06-08</th>\n",
       "      <td>$54.13</td>\n",
       "      <td>15329690</td>\n",
       "      <td>$53.97</td>\n",
       "      <td>$54.39</td>\n",
       "      <td>$53.89</td>\n",
       "    </tr>\n",
       "    <tr>\n",
       "      <th>2021-06-07</th>\n",
       "      <td>$53.92</td>\n",
       "      <td>14899750</td>\n",
       "      <td>$54.32</td>\n",
       "      <td>$54.44</td>\n",
       "      <td>$53.79</td>\n",
       "    </tr>\n",
       "    <tr>\n",
       "      <th>2021-06-04</th>\n",
       "      <td>$54.07</td>\n",
       "      <td>11676700</td>\n",
       "      <td>$53.435</td>\n",
       "      <td>$54.17</td>\n",
       "      <td>$53.435</td>\n",
       "    </tr>\n",
       "    <tr>\n",
       "      <th>2021-06-03</th>\n",
       "      <td>$53.33</td>\n",
       "      <td>17593100</td>\n",
       "      <td>$52.8</td>\n",
       "      <td>$53.555</td>\n",
       "      <td>$52.62</td>\n",
       "    </tr>\n",
       "  </tbody>\n",
       "</table>\n",
       "</div>"
      ],
      "text/plain": [
       "           Close/Last    Volume     Open     High      Low\n",
       "Date                                                      \n",
       "2021-06-09     $54.02  14861230   $54.18   $54.42  $53.935\n",
       "2021-06-08     $54.13  15329690   $53.97   $54.39   $53.89\n",
       "2021-06-07     $53.92  14899750   $54.32   $54.44   $53.79\n",
       "2021-06-04     $54.07  11676700  $53.435   $54.17  $53.435\n",
       "2021-06-03     $53.33  17593100    $52.8  $53.555   $52.62"
      ]
     },
     "execution_count": 4,
     "metadata": {},
     "output_type": "execute_result"
    }
   ],
   "source": [
    "csco.head()"
   ]
  },
  {
   "cell_type": "code",
   "execution_count": 5,
   "metadata": {},
   "outputs": [
    {
     "data": {
      "text/html": [
       "<div>\n",
       "<style scoped>\n",
       "    .dataframe tbody tr th:only-of-type {\n",
       "        vertical-align: middle;\n",
       "    }\n",
       "\n",
       "    .dataframe tbody tr th {\n",
       "        vertical-align: top;\n",
       "    }\n",
       "\n",
       "    .dataframe thead th {\n",
       "        text-align: right;\n",
       "    }\n",
       "</style>\n",
       "<table border=\"1\" class=\"dataframe\">\n",
       "  <thead>\n",
       "    <tr style=\"text-align: right;\">\n",
       "      <th></th>\n",
       "      <th>Close/Last</th>\n",
       "      <th>Volume</th>\n",
       "      <th>Open</th>\n",
       "      <th>High</th>\n",
       "      <th>Low</th>\n",
       "    </tr>\n",
       "    <tr>\n",
       "      <th>Date</th>\n",
       "      <th></th>\n",
       "      <th></th>\n",
       "      <th></th>\n",
       "      <th></th>\n",
       "      <th></th>\n",
       "    </tr>\n",
       "  </thead>\n",
       "  <tbody>\n",
       "    <tr>\n",
       "      <th>2021-06-09</th>\n",
       "      <td>$330.25</td>\n",
       "      <td>13727950</td>\n",
       "      <td>$335.74</td>\n",
       "      <td>$336.8</td>\n",
       "      <td>$330</td>\n",
       "    </tr>\n",
       "    <tr>\n",
       "      <th>2021-06-08</th>\n",
       "      <td>$333.68</td>\n",
       "      <td>14580460</td>\n",
       "      <td>$336.7</td>\n",
       "      <td>$338.2999</td>\n",
       "      <td>$332.24</td>\n",
       "    </tr>\n",
       "    <tr>\n",
       "      <th>2021-06-07</th>\n",
       "      <td>$336.58</td>\n",
       "      <td>20136710</td>\n",
       "      <td>$329.48</td>\n",
       "      <td>$337.69</td>\n",
       "      <td>$328.93</td>\n",
       "    </tr>\n",
       "    <tr>\n",
       "      <th>2021-06-04</th>\n",
       "      <td>$330.35</td>\n",
       "      <td>13289380</td>\n",
       "      <td>$325.9</td>\n",
       "      <td>$332.455</td>\n",
       "      <td>$325.18</td>\n",
       "    </tr>\n",
       "    <tr>\n",
       "      <th>2021-06-03</th>\n",
       "      <td>$326.04</td>\n",
       "      <td>12610790</td>\n",
       "      <td>$325.78</td>\n",
       "      <td>$327.375</td>\n",
       "      <td>$323.48</td>\n",
       "    </tr>\n",
       "  </tbody>\n",
       "</table>\n",
       "</div>"
      ],
      "text/plain": [
       "           Close/Last    Volume     Open       High      Low\n",
       "Date                                                        \n",
       "2021-06-09    $330.25  13727950  $335.74     $336.8     $330\n",
       "2021-06-08    $333.68  14580460   $336.7  $338.2999  $332.24\n",
       "2021-06-07    $336.58  20136710  $329.48    $337.69  $328.93\n",
       "2021-06-04    $330.35  13289380   $325.9   $332.455  $325.18\n",
       "2021-06-03    $326.04  12610790  $325.78   $327.375  $323.48"
      ]
     },
     "execution_count": 5,
     "metadata": {},
     "output_type": "execute_result"
    }
   ],
   "source": [
    "fb.head()"
   ]
  },
  {
   "cell_type": "code",
   "execution_count": 6,
   "metadata": {},
   "outputs": [
    {
     "data": {
      "text/html": [
       "<div>\n",
       "<style scoped>\n",
       "    .dataframe tbody tr th:only-of-type {\n",
       "        vertical-align: middle;\n",
       "    }\n",
       "\n",
       "    .dataframe tbody tr th {\n",
       "        vertical-align: top;\n",
       "    }\n",
       "\n",
       "    .dataframe thead th {\n",
       "        text-align: right;\n",
       "    }\n",
       "</style>\n",
       "<table border=\"1\" class=\"dataframe\">\n",
       "  <thead>\n",
       "    <tr style=\"text-align: right;\">\n",
       "      <th></th>\n",
       "      <th>Close/Last</th>\n",
       "      <th>Volume</th>\n",
       "      <th>Open</th>\n",
       "      <th>High</th>\n",
       "      <th>Low</th>\n",
       "    </tr>\n",
       "    <tr>\n",
       "      <th>Date</th>\n",
       "      <th></th>\n",
       "      <th></th>\n",
       "      <th></th>\n",
       "      <th></th>\n",
       "      <th></th>\n",
       "    </tr>\n",
       "  </thead>\n",
       "  <tbody>\n",
       "    <tr>\n",
       "      <th>2021-06-09</th>\n",
       "      <td>$132.89</td>\n",
       "      <td>6717243</td>\n",
       "      <td>$135.105</td>\n",
       "      <td>$135.35</td>\n",
       "      <td>$132.79</td>\n",
       "    </tr>\n",
       "    <tr>\n",
       "      <th>2021-06-08</th>\n",
       "      <td>$134.2</td>\n",
       "      <td>9657889</td>\n",
       "      <td>$134.06</td>\n",
       "      <td>$135.3895</td>\n",
       "      <td>$133</td>\n",
       "    </tr>\n",
       "    <tr>\n",
       "      <th>2021-06-07</th>\n",
       "      <td>$133.32</td>\n",
       "      <td>5563253</td>\n",
       "      <td>$133.7</td>\n",
       "      <td>$133.77</td>\n",
       "      <td>$132.64</td>\n",
       "    </tr>\n",
       "    <tr>\n",
       "      <th>2021-06-04</th>\n",
       "      <td>$134.34</td>\n",
       "      <td>7416675</td>\n",
       "      <td>$132.525</td>\n",
       "      <td>$135.05</td>\n",
       "      <td>$132.2</td>\n",
       "    </tr>\n",
       "    <tr>\n",
       "      <th>2021-06-03</th>\n",
       "      <td>$131.78</td>\n",
       "      <td>6643997</td>\n",
       "      <td>$132.65</td>\n",
       "      <td>$133.39</td>\n",
       "      <td>$131.42</td>\n",
       "    </tr>\n",
       "  </tbody>\n",
       "</table>\n",
       "</div>"
      ],
      "text/plain": [
       "           Close/Last   Volume      Open       High      Low\n",
       "Date                                                        \n",
       "2021-06-09    $132.89  6717243  $135.105    $135.35  $132.79\n",
       "2021-06-08     $134.2  9657889   $134.06  $135.3895     $133\n",
       "2021-06-07    $133.32  5563253    $133.7    $133.77  $132.64\n",
       "2021-06-04    $134.34  7416675  $132.525    $135.05   $132.2\n",
       "2021-06-03    $131.78  6643997   $132.65    $133.39  $131.42"
      ]
     },
     "execution_count": 6,
     "metadata": {},
     "output_type": "execute_result"
    }
   ],
   "source": [
    "qcom.head()"
   ]
  },
  {
   "cell_type": "code",
   "execution_count": 7,
   "metadata": {},
   "outputs": [
    {
     "data": {
      "text/html": [
       "<div>\n",
       "<style scoped>\n",
       "    .dataframe tbody tr th:only-of-type {\n",
       "        vertical-align: middle;\n",
       "    }\n",
       "\n",
       "    .dataframe tbody tr th {\n",
       "        vertical-align: top;\n",
       "    }\n",
       "\n",
       "    .dataframe thead th {\n",
       "        text-align: right;\n",
       "    }\n",
       "</style>\n",
       "<table border=\"1\" class=\"dataframe\">\n",
       "  <thead>\n",
       "    <tr style=\"text-align: right;\">\n",
       "      <th></th>\n",
       "      <th>Close/Last</th>\n",
       "      <th>Volume</th>\n",
       "      <th>Open</th>\n",
       "      <th>High</th>\n",
       "      <th>Low</th>\n",
       "    </tr>\n",
       "    <tr>\n",
       "      <th>Date</th>\n",
       "      <th></th>\n",
       "      <th></th>\n",
       "      <th></th>\n",
       "      <th></th>\n",
       "      <th></th>\n",
       "    </tr>\n",
       "  </thead>\n",
       "  <tbody>\n",
       "    <tr>\n",
       "      <th>06/09/2021</th>\n",
       "      <td>$111.39</td>\n",
       "      <td>3669725</td>\n",
       "      <td>$111.736</td>\n",
       "      <td>$112.19</td>\n",
       "      <td>$111.33</td>\n",
       "    </tr>\n",
       "    <tr>\n",
       "      <th>06/08/2021</th>\n",
       "      <td>$111.52</td>\n",
       "      <td>4669852</td>\n",
       "      <td>$111.38</td>\n",
       "      <td>$111.99</td>\n",
       "      <td>$110.86</td>\n",
       "    </tr>\n",
       "    <tr>\n",
       "      <th>06/07/2021</th>\n",
       "      <td>$111.33</td>\n",
       "      <td>4009023</td>\n",
       "      <td>$111.98</td>\n",
       "      <td>$112.2768</td>\n",
       "      <td>$110.99</td>\n",
       "    </tr>\n",
       "    <tr>\n",
       "      <th>06/04/2021</th>\n",
       "      <td>$111.99</td>\n",
       "      <td>4477543</td>\n",
       "      <td>$111.62</td>\n",
       "      <td>$112.065</td>\n",
       "      <td>$111.05</td>\n",
       "    </tr>\n",
       "    <tr>\n",
       "      <th>06/03/2021</th>\n",
       "      <td>$111.12</td>\n",
       "      <td>5723894</td>\n",
       "      <td>$112.01</td>\n",
       "      <td>$112.24</td>\n",
       "      <td>$110.15</td>\n",
       "    </tr>\n",
       "  </tbody>\n",
       "</table>\n",
       "</div>"
      ],
      "text/plain": [
       "           Close/Last   Volume      Open       High      Low\n",
       "Date                                                        \n",
       "06/09/2021    $111.39  3669725  $111.736    $112.19  $111.33\n",
       "06/08/2021    $111.52  4669852   $111.38    $111.99  $110.86\n",
       "06/07/2021    $111.33  4009023   $111.98  $112.2768  $110.99\n",
       "06/04/2021    $111.99  4477543   $111.62   $112.065  $111.05\n",
       "06/03/2021    $111.12  5723894   $112.01    $112.24  $110.15"
      ]
     },
     "execution_count": 7,
     "metadata": {},
     "output_type": "execute_result"
    }
   ],
   "source": [
    "sbux.head()"
   ]
  },
  {
   "cell_type": "code",
   "execution_count": 8,
   "metadata": {},
   "outputs": [
    {
     "data": {
      "text/html": [
       "<div>\n",
       "<style scoped>\n",
       "    .dataframe tbody tr th:only-of-type {\n",
       "        vertical-align: middle;\n",
       "    }\n",
       "\n",
       "    .dataframe tbody tr th {\n",
       "        vertical-align: top;\n",
       "    }\n",
       "\n",
       "    .dataframe thead th {\n",
       "        text-align: right;\n",
       "    }\n",
       "</style>\n",
       "<table border=\"1\" class=\"dataframe\">\n",
       "  <thead>\n",
       "    <tr style=\"text-align: right;\">\n",
       "      <th></th>\n",
       "      <th>Close/Last</th>\n",
       "      <th>Volume</th>\n",
       "      <th>Open</th>\n",
       "      <th>High</th>\n",
       "      <th>Low</th>\n",
       "    </tr>\n",
       "    <tr>\n",
       "      <th>Date</th>\n",
       "      <th></th>\n",
       "      <th></th>\n",
       "      <th></th>\n",
       "      <th></th>\n",
       "      <th></th>\n",
       "    </tr>\n",
       "  </thead>\n",
       "  <tbody>\n",
       "    <tr>\n",
       "      <th>06/09/2021</th>\n",
       "      <td>$598.78</td>\n",
       "      <td>16584570</td>\n",
       "      <td>$602.17</td>\n",
       "      <td>$611.79</td>\n",
       "      <td>$597.6301</td>\n",
       "    </tr>\n",
       "    <tr>\n",
       "      <th>06/08/2021</th>\n",
       "      <td>$603.59</td>\n",
       "      <td>26053410</td>\n",
       "      <td>$623.01</td>\n",
       "      <td>$623.09</td>\n",
       "      <td>$595.5</td>\n",
       "    </tr>\n",
       "    <tr>\n",
       "      <th>06/07/2021</th>\n",
       "      <td>$605.13</td>\n",
       "      <td>22543680</td>\n",
       "      <td>$591.825</td>\n",
       "      <td>$610</td>\n",
       "      <td>$582.88</td>\n",
       "    </tr>\n",
       "    <tr>\n",
       "      <th>06/04/2021</th>\n",
       "      <td>$599.05</td>\n",
       "      <td>24036900</td>\n",
       "      <td>$579.71</td>\n",
       "      <td>$600.61</td>\n",
       "      <td>$577.2</td>\n",
       "    </tr>\n",
       "    <tr>\n",
       "      <th>06/03/2021</th>\n",
       "      <td>$572.84</td>\n",
       "      <td>30111890</td>\n",
       "      <td>$601.8</td>\n",
       "      <td>$604.55</td>\n",
       "      <td>$571.22</td>\n",
       "    </tr>\n",
       "  </tbody>\n",
       "</table>\n",
       "</div>"
      ],
      "text/plain": [
       "           Close/Last    Volume      Open     High        Low\n",
       "Date                                                         \n",
       "06/09/2021    $598.78  16584570   $602.17  $611.79  $597.6301\n",
       "06/08/2021    $603.59  26053410   $623.01  $623.09     $595.5\n",
       "06/07/2021    $605.13  22543680  $591.825     $610    $582.88\n",
       "06/04/2021    $599.05  24036900   $579.71  $600.61     $577.2\n",
       "06/03/2021    $572.84  30111890    $601.8  $604.55    $571.22"
      ]
     },
     "execution_count": 8,
     "metadata": {},
     "output_type": "execute_result"
    }
   ],
   "source": [
    "tesla.head()"
   ]
  },
  {
   "cell_type": "code",
   "execution_count": 9,
   "metadata": {},
   "outputs": [
    {
     "data": {
      "text/html": [
       "<div>\n",
       "<style scoped>\n",
       "    .dataframe tbody tr th:only-of-type {\n",
       "        vertical-align: middle;\n",
       "    }\n",
       "\n",
       "    .dataframe tbody tr th {\n",
       "        vertical-align: top;\n",
       "    }\n",
       "\n",
       "    .dataframe thead th {\n",
       "        text-align: right;\n",
       "    }\n",
       "</style>\n",
       "<table border=\"1\" class=\"dataframe\">\n",
       "  <thead>\n",
       "    <tr style=\"text-align: right;\">\n",
       "      <th></th>\n",
       "      <th>Close/Last</th>\n",
       "      <th>Volume</th>\n",
       "      <th>Open</th>\n",
       "      <th>High</th>\n",
       "      <th>Low</th>\n",
       "    </tr>\n",
       "    <tr>\n",
       "      <th>Date</th>\n",
       "      <th></th>\n",
       "      <th></th>\n",
       "      <th></th>\n",
       "      <th></th>\n",
       "      <th></th>\n",
       "    </tr>\n",
       "  </thead>\n",
       "  <tbody>\n",
       "    <tr>\n",
       "      <th>06/09/2021</th>\n",
       "      <td>$253.59</td>\n",
       "      <td>17937630</td>\n",
       "      <td>$253.81</td>\n",
       "      <td>$255.53</td>\n",
       "      <td>$253.21</td>\n",
       "    </tr>\n",
       "    <tr>\n",
       "      <th>06/08/2021</th>\n",
       "      <td>$252.57</td>\n",
       "      <td>22455000</td>\n",
       "      <td>$255.16</td>\n",
       "      <td>$256.01</td>\n",
       "      <td>$252.51</td>\n",
       "    </tr>\n",
       "    <tr>\n",
       "      <th>06/07/2021</th>\n",
       "      <td>$253.81</td>\n",
       "      <td>23079170</td>\n",
       "      <td>$249.98</td>\n",
       "      <td>$254.09</td>\n",
       "      <td>$249.81</td>\n",
       "    </tr>\n",
       "    <tr>\n",
       "      <th>06/04/2021</th>\n",
       "      <td>$250.79</td>\n",
       "      <td>25281090</td>\n",
       "      <td>$247.76</td>\n",
       "      <td>$251.65</td>\n",
       "      <td>$247.51</td>\n",
       "    </tr>\n",
       "    <tr>\n",
       "      <th>06/03/2021</th>\n",
       "      <td>$245.71</td>\n",
       "      <td>25307710</td>\n",
       "      <td>$245.22</td>\n",
       "      <td>$246.34</td>\n",
       "      <td>$243</td>\n",
       "    </tr>\n",
       "  </tbody>\n",
       "</table>\n",
       "</div>"
      ],
      "text/plain": [
       "           Close/Last    Volume     Open     High      Low\n",
       "Date                                                      \n",
       "06/09/2021    $253.59  17937630  $253.81  $255.53  $253.21\n",
       "06/08/2021    $252.57  22455000  $255.16  $256.01  $252.51\n",
       "06/07/2021    $253.81  23079170  $249.98  $254.09  $249.81\n",
       "06/04/2021    $250.79  25281090  $247.76  $251.65  $247.51\n",
       "06/03/2021    $245.71  25307710  $245.22  $246.34     $243"
      ]
     },
     "execution_count": 9,
     "metadata": {},
     "output_type": "execute_result"
    }
   ],
   "source": [
    "msft.head()"
   ]
  },
  {
   "cell_type": "markdown",
   "metadata": {},
   "source": [
    "# ###########################################################"
   ]
  },
  {
   "cell_type": "code",
   "execution_count": 10,
   "metadata": {},
   "outputs": [],
   "source": [
    "import matplotlib.pyplot as plt\n",
    "import seaborn as sns"
   ]
  },
  {
   "cell_type": "code",
   "execution_count": 11,
   "metadata": {},
   "outputs": [
    {
     "data": {
      "text/html": [
       "<div>\n",
       "<style scoped>\n",
       "    .dataframe tbody tr th:only-of-type {\n",
       "        vertical-align: middle;\n",
       "    }\n",
       "\n",
       "    .dataframe tbody tr th {\n",
       "        vertical-align: top;\n",
       "    }\n",
       "\n",
       "    .dataframe thead th {\n",
       "        text-align: right;\n",
       "    }\n",
       "</style>\n",
       "<table border=\"1\" class=\"dataframe\">\n",
       "  <thead>\n",
       "    <tr style=\"text-align: right;\">\n",
       "      <th></th>\n",
       "      <th>Volume</th>\n",
       "    </tr>\n",
       "  </thead>\n",
       "  <tbody>\n",
       "    <tr>\n",
       "      <th>count</th>\n",
       "      <td>2.516000e+03</td>\n",
       "    </tr>\n",
       "    <tr>\n",
       "      <th>mean</th>\n",
       "      <td>2.388826e+08</td>\n",
       "    </tr>\n",
       "    <tr>\n",
       "      <th>std</th>\n",
       "      <td>1.914594e+08</td>\n",
       "    </tr>\n",
       "    <tr>\n",
       "      <th>min</th>\n",
       "      <td>4.544820e+07</td>\n",
       "    </tr>\n",
       "    <tr>\n",
       "      <th>25%</th>\n",
       "      <td>1.092658e+08</td>\n",
       "    </tr>\n",
       "    <tr>\n",
       "      <th>50%</th>\n",
       "      <td>1.679334e+08</td>\n",
       "    </tr>\n",
       "    <tr>\n",
       "      <th>75%</th>\n",
       "      <td>3.022477e+08</td>\n",
       "    </tr>\n",
       "    <tr>\n",
       "      <th>max</th>\n",
       "      <td>1.498071e+09</td>\n",
       "    </tr>\n",
       "  </tbody>\n",
       "</table>\n",
       "</div>"
      ],
      "text/plain": [
       "             Volume\n",
       "count  2.516000e+03\n",
       "mean   2.388826e+08\n",
       "std    1.914594e+08\n",
       "min    4.544820e+07\n",
       "25%    1.092658e+08\n",
       "50%    1.679334e+08\n",
       "75%    3.022477e+08\n",
       "max    1.498071e+09"
      ]
     },
     "execution_count": 11,
     "metadata": {},
     "output_type": "execute_result"
    }
   ],
   "source": [
    "# apple data wrangling. \n",
    "apple.describe()"
   ]
  },
  {
   "cell_type": "code",
   "execution_count": 12,
   "metadata": {},
   "outputs": [
    {
     "data": {
      "text/plain": [
       "Close/Last    object\n",
       "Volume         int64\n",
       "Open          object\n",
       "High          object\n",
       "Low           object\n",
       "dtype: object"
      ]
     },
     "execution_count": 12,
     "metadata": {},
     "output_type": "execute_result"
    }
   ],
   "source": [
    "apple.dtypes"
   ]
  },
  {
   "cell_type": "code",
   "execution_count": 13,
   "metadata": {},
   "outputs": [],
   "source": [
    "# Removing $ symbol and convert into float values for amazon\n",
    "amzn['Close/Last'] = amzn['Close/Last'].apply(lambda x : str(x).strip('$') if '$' in str(x) else str(x))\n",
    "amzn['Open'] = amzn['Open'].apply(lambda x : str(x).strip('$') if '$' in str(x) else str(x))\n",
    "amzn['High'] = amzn['High'].apply(lambda x : str(x).strip('$') if '$' in str(x) else str(x))\n",
    "amzn['Low'] = amzn['Low'].apply(lambda x : str(x).strip('$') if '$' in str(x) else str(x))\n",
    "\n",
    "amzn['Close/Last'] = amzn['Close/Last'].apply(lambda x : float(x))\n",
    "amzn['Open'] = amzn['Open'].apply(lambda x :float(x))\n",
    "amzn['High'] = amzn['High'].apply(lambda x :float(x))\n",
    "amzn['Low'] = amzn['Low'].apply(lambda x : float(x))\n",
    "\n",
    "amzn_cleaned = round(amzn,2)\n",
    "amzn_cleaned.head()\n",
    "############################################################################################################\n",
    "# Removing $ symbol and convert into float values for apple\n",
    "apple['Close/Last'] = apple['Close/Last'].apply(lambda x : str(x).strip('$') if '$' in str(x) else str(x))\n",
    "apple['Open'] = apple['Open'].apply(lambda x : str(x).strip('$') if '$' in str(x) else str(x))\n",
    "apple['High'] = apple['High'].apply(lambda x : str(x).strip('$') if '$' in str(x) else str(x))\n",
    "apple['Low'] = apple['Low'].apply(lambda x : str(x).strip('$') if '$' in str(x) else str(x))\n",
    "\n",
    "apple['Close/Last'] = apple['Close/Last'].apply(lambda x : float(x))\n",
    "apple['Open'] = apple['Open'].apply(lambda x :float(x))\n",
    "apple['High'] = apple['High'].apply(lambda x :float(x))\n",
    "apple['Low'] = apple['Low'].apply(lambda x : float(x))\n",
    "\n",
    "apple_cleaned = round(apple,2)\n",
    "#apple_cleaned.head()\n",
    "\n",
    "############################################################################################################\n",
    "# Removing $ symbol and convert into float values for csco\n",
    "\n",
    "csco['Close/Last'] = csco['Close/Last'].apply(lambda x : str(x).strip('$') if '$' in str(x) else str(x))\n",
    "csco['Open'] = csco['Open'].apply(lambda x : str(x).strip('$') if '$' in str(x) else str(x))\n",
    "csco['High'] = csco['High'].apply(lambda x : str(x).strip('$') if '$' in str(x) else str(x))\n",
    "csco['Low'] = csco['Low'].apply(lambda x : str(x).strip('$') if '$' in str(x) else str(x))\n",
    "\n",
    "csco['Close/Last'] = csco['Close/Last'].apply(lambda x : float(x))\n",
    "csco['Open'] = csco['Open'].apply(lambda x :float(x))\n",
    "csco['High'] = csco['High'].apply(lambda x :float(x))\n",
    "csco['Low'] = csco['Low'].apply(lambda x : float(x))\n",
    "\n",
    "csco_cleaned = round(csco,2)\n",
    "#csco_cleaned.head()\n",
    "\n",
    "############################################################################################################\n",
    "# Removing $ symbol and convert into float values for facebook\n",
    "fb['Close/Last'] = fb['Close/Last'].apply(lambda x : str(x).strip('$') if '$' in str(x) else str(x))\n",
    "fb['Open'] = fb['Open'].apply(lambda x : str(x).strip('$') if '$' in str(x) else str(x))\n",
    "fb['High'] = fb['High'].apply(lambda x : str(x).strip('$') if '$' in str(x) else str(x))\n",
    "fb['Low'] = fb['Low'].apply(lambda x : str(x).strip('$') if '$' in str(x) else str(x))\n",
    "\n",
    "fb['Close/Last'] = fb['Close/Last'].apply(lambda x : float(x))\n",
    "fb['Open'] = fb['Open'].apply(lambda x :float(x))\n",
    "fb['High'] = fb['High'].apply(lambda x :float(x))\n",
    "fb['Low'] = fb['Low'].apply(lambda x : float(x))\n",
    "\n",
    "fb_cleaned = round(fb,2)\n",
    "#fb_cleaned.head()\n",
    "\n",
    "############################################################################################################\n",
    "# Removing $ symbol and convert into float values for qcom \n",
    "\n",
    "qcom['Close/Last'] = qcom['Close/Last'].apply(lambda x : str(x).strip('$') if '$' in str(x) else str(x))\n",
    "qcom['Open'] = qcom['Open'].apply(lambda x : str(x).strip('$') if '$' in str(x) else str(x))\n",
    "qcom['High'] = qcom['High'].apply(lambda x : str(x).strip('$') if '$' in str(x) else str(x))\n",
    "qcom['Low'] = qcom['Low'].apply(lambda x : str(x).strip('$') if '$' in str(x) else str(x))\n",
    "\n",
    "qcom['Close/Last'] = qcom['Close/Last'].apply(lambda x : float(x))\n",
    "qcom['Open'] = qcom['Open'].apply(lambda x :float(x))\n",
    "qcom['High'] = qcom['High'].apply(lambda x :float(x))\n",
    "qcom['Low'] = qcom['Low'].apply(lambda x : float(x))\n",
    "\n",
    "qcom_cleaned = round(qcom,2)\n",
    "#qcom_cleaned.head()\n",
    "\n",
    "############################################################################################################\n",
    "# Removing $ symbol and convert into float values for sbux\n",
    "\n",
    "sbux['Close/Last'] = sbux['Close/Last'].apply(lambda x : str(x).strip('$') if '$' in str(x) else str(x))\n",
    "sbux['Open'] = sbux['Open'].apply(lambda x : str(x).strip('$') if '$' in str(x) else str(x))\n",
    "sbux['High'] = sbux['High'].apply(lambda x : str(x).strip('$') if '$' in str(x) else str(x))\n",
    "sbux['Low'] = sbux['Low'].apply(lambda x : str(x).strip('$') if '$' in str(x) else str(x))\n",
    "\n",
    "sbux['Close/Last'] = sbux['Close/Last'].apply(lambda x : float(x))\n",
    "sbux['Open'] = sbux['Open'].apply(lambda x :float(x))\n",
    "sbux['High'] = sbux['High'].apply(lambda x :float(x))\n",
    "sbux['Low'] = sbux['Low'].apply(lambda x : float(x))\n",
    "\n",
    "sbux_cleaned = round(sbux,2)\n",
    "#sbux_cleaned.head()\n",
    "\n",
    "############################################################################################################\n",
    "# Removing $ symbol and convert into float values for tesla\n",
    "\n",
    "tesla['Close/Last'] = tesla['Close/Last'].apply(lambda x : str(x).strip('$') if '$' in str(x) else str(x))\n",
    "tesla['Open'] = tesla['Open'].apply(lambda x : str(x).strip('$') if '$' in str(x) else str(x))\n",
    "tesla['High'] = tesla['High'].apply(lambda x : str(x).strip('$') if '$' in str(x) else str(x))\n",
    "tesla['Low'] = tesla['Low'].apply(lambda x : str(x).strip('$') if '$' in str(x) else str(x))\n",
    "\n",
    "tesla['Close/Last'] = tesla['Close/Last'].apply(lambda x : float(x))\n",
    "tesla['Open'] = tesla['Open'].apply(lambda x :float(x))\n",
    "tesla['High'] = tesla['High'].apply(lambda x :float(x))\n",
    "tesla['Low'] = tesla['Low'].apply(lambda x : float(x))\n",
    "\n",
    "tesla_cleaned = round(tesla,2)\n",
    "#tesla_cleaned.head()\n",
    "\n",
    "############################################################################################################\n",
    "# Removing $ symbol and convert into float values for MSFT\n",
    "\n",
    "msft['Close/Last'] = msft['Close/Last'].apply(lambda x : str(x).strip('$') if '$' in str(x) else str(x))\n",
    "msft['Open'] = msft['Open'].apply(lambda x : str(x).strip('$') if '$' in str(x) else str(x))\n",
    "msft['High'] = msft['High'].apply(lambda x : str(x).strip('$') if '$' in str(x) else str(x))\n",
    "msft['Low'] = msft['Low'].apply(lambda x : str(x).strip('$') if '$' in str(x) else str(x))\n",
    "\n",
    "msft['Close/Last'] = msft['Close/Last'].apply(lambda x : float(x))\n",
    "msft['Open'] = msft['Open'].apply(lambda x :float(x))\n",
    "msft['High'] = msft['High'].apply(lambda x :float(x))\n",
    "msft['Low'] = msft['Low'].apply(lambda x : float(x))\n",
    "\n",
    "msft_cleaned = round(msft,2)\n",
    "#msft_cleaned.head()"
   ]
  },
  {
   "cell_type": "markdown",
   "metadata": {},
   "source": [
    "# Apple stock"
   ]
  },
  {
   "cell_type": "code",
   "execution_count": 14,
   "metadata": {},
   "outputs": [
    {
     "data": {
      "text/html": [
       "<div>\n",
       "<style scoped>\n",
       "    .dataframe tbody tr th:only-of-type {\n",
       "        vertical-align: middle;\n",
       "    }\n",
       "\n",
       "    .dataframe tbody tr th {\n",
       "        vertical-align: top;\n",
       "    }\n",
       "\n",
       "    .dataframe thead th {\n",
       "        text-align: right;\n",
       "    }\n",
       "</style>\n",
       "<table border=\"1\" class=\"dataframe\">\n",
       "  <thead>\n",
       "    <tr style=\"text-align: right;\">\n",
       "      <th></th>\n",
       "      <th>Close/Last</th>\n",
       "      <th>Volume</th>\n",
       "      <th>Open</th>\n",
       "      <th>High</th>\n",
       "      <th>Low</th>\n",
       "    </tr>\n",
       "    <tr>\n",
       "      <th>Date</th>\n",
       "      <th></th>\n",
       "      <th></th>\n",
       "      <th></th>\n",
       "      <th></th>\n",
       "      <th></th>\n",
       "    </tr>\n",
       "  </thead>\n",
       "  <tbody>\n",
       "    <tr>\n",
       "      <th>2021-01-26</th>\n",
       "      <td>143.16</td>\n",
       "      <td>98390560</td>\n",
       "      <td>143.6</td>\n",
       "      <td>144.3</td>\n",
       "      <td>141.37</td>\n",
       "    </tr>\n",
       "  </tbody>\n",
       "</table>\n",
       "</div>"
      ],
      "text/plain": [
       "            Close/Last    Volume   Open   High     Low\n",
       "Date                                                  \n",
       "2021-01-26      143.16  98390560  143.6  144.3  141.37"
      ]
     },
     "execution_count": 14,
     "metadata": {},
     "output_type": "execute_result"
    }
   ],
   "source": [
    "apple_cleaned[apple_cleaned['Close/Last']==apple_cleaned['Close/Last'].max()]\n",
    "\n",
    "#max closing on 01/26/2021 and closed with 143.16$"
   ]
  },
  {
   "cell_type": "code",
   "execution_count": 15,
   "metadata": {},
   "outputs": [
    {
     "data": {
      "text/html": [
       "<div>\n",
       "<style scoped>\n",
       "    .dataframe tbody tr th:only-of-type {\n",
       "        vertical-align: middle;\n",
       "    }\n",
       "\n",
       "    .dataframe tbody tr th {\n",
       "        vertical-align: top;\n",
       "    }\n",
       "\n",
       "    .dataframe thead th {\n",
       "        text-align: right;\n",
       "    }\n",
       "</style>\n",
       "<table border=\"1\" class=\"dataframe\">\n",
       "  <thead>\n",
       "    <tr style=\"text-align: right;\">\n",
       "      <th></th>\n",
       "      <th>Close/Last</th>\n",
       "      <th>Volume</th>\n",
       "      <th>Open</th>\n",
       "      <th>High</th>\n",
       "      <th>Low</th>\n",
       "    </tr>\n",
       "    <tr>\n",
       "      <th>Date</th>\n",
       "      <th></th>\n",
       "      <th></th>\n",
       "      <th></th>\n",
       "      <th></th>\n",
       "      <th></th>\n",
       "    </tr>\n",
       "  </thead>\n",
       "  <tbody>\n",
       "    <tr>\n",
       "      <th>2011-06-20</th>\n",
       "      <td>11.26</td>\n",
       "      <td>639595904</td>\n",
       "      <td>11.33</td>\n",
       "      <td>11.35</td>\n",
       "      <td>11.09</td>\n",
       "    </tr>\n",
       "  </tbody>\n",
       "</table>\n",
       "</div>"
      ],
      "text/plain": [
       "            Close/Last     Volume   Open   High    Low\n",
       "Date                                                  \n",
       "2011-06-20       11.26  639595904  11.33  11.35  11.09"
      ]
     },
     "execution_count": 15,
     "metadata": {},
     "output_type": "execute_result"
    }
   ],
   "source": [
    "apple_cleaned[apple_cleaned['Close/Last']==apple_cleaned['Close/Last'].min()]\n",
    "\n",
    "#min closing on 06/20/2011 and closed with 11.26$"
   ]
  },
  {
   "cell_type": "code",
   "execution_count": 16,
   "metadata": {},
   "outputs": [
    {
     "data": {
      "text/html": [
       "<div>\n",
       "<style scoped>\n",
       "    .dataframe tbody tr th:only-of-type {\n",
       "        vertical-align: middle;\n",
       "    }\n",
       "\n",
       "    .dataframe tbody tr th {\n",
       "        vertical-align: top;\n",
       "    }\n",
       "\n",
       "    .dataframe thead th {\n",
       "        text-align: right;\n",
       "    }\n",
       "</style>\n",
       "<table border=\"1\" class=\"dataframe\">\n",
       "  <thead>\n",
       "    <tr style=\"text-align: right;\">\n",
       "      <th></th>\n",
       "      <th>Close/Last</th>\n",
       "      <th>Volume</th>\n",
       "      <th>Open</th>\n",
       "      <th>High</th>\n",
       "      <th>Low</th>\n",
       "    </tr>\n",
       "    <tr>\n",
       "      <th>Date</th>\n",
       "      <th></th>\n",
       "      <th></th>\n",
       "      <th></th>\n",
       "      <th></th>\n",
       "      <th></th>\n",
       "    </tr>\n",
       "  </thead>\n",
       "  <tbody>\n",
       "    <tr>\n",
       "      <th>2012-02-15</th>\n",
       "      <td>17.77</td>\n",
       "      <td>1498070521</td>\n",
       "      <td>18.37</td>\n",
       "      <td>18.8</td>\n",
       "      <td>17.75</td>\n",
       "    </tr>\n",
       "  </tbody>\n",
       "</table>\n",
       "</div>"
      ],
      "text/plain": [
       "            Close/Last      Volume   Open  High    Low\n",
       "Date                                                  \n",
       "2012-02-15       17.77  1498070521  18.37  18.8  17.75"
      ]
     },
     "execution_count": 16,
     "metadata": {},
     "output_type": "execute_result"
    }
   ],
   "source": [
    "apple_cleaned[apple_cleaned['Volume']==apple_cleaned['Volume'].max()]\n",
    "\n",
    "#max volume on 02/15/2012 and volume is 1498070521"
   ]
  },
  {
   "cell_type": "code",
   "execution_count": 17,
   "metadata": {},
   "outputs": [
    {
     "data": {
      "text/html": [
       "<div>\n",
       "<style scoped>\n",
       "    .dataframe tbody tr th:only-of-type {\n",
       "        vertical-align: middle;\n",
       "    }\n",
       "\n",
       "    .dataframe tbody tr th {\n",
       "        vertical-align: top;\n",
       "    }\n",
       "\n",
       "    .dataframe thead th {\n",
       "        text-align: right;\n",
       "    }\n",
       "</style>\n",
       "<table border=\"1\" class=\"dataframe\">\n",
       "  <thead>\n",
       "    <tr style=\"text-align: right;\">\n",
       "      <th></th>\n",
       "      <th>Close/Last</th>\n",
       "      <th>Volume</th>\n",
       "      <th>Open</th>\n",
       "      <th>High</th>\n",
       "      <th>Low</th>\n",
       "    </tr>\n",
       "    <tr>\n",
       "      <th>Date</th>\n",
       "      <th></th>\n",
       "      <th></th>\n",
       "      <th></th>\n",
       "      <th></th>\n",
       "      <th></th>\n",
       "    </tr>\n",
       "  </thead>\n",
       "  <tbody>\n",
       "    <tr>\n",
       "      <th>2019-07-03</th>\n",
       "      <td>51.1</td>\n",
       "      <td>45448200</td>\n",
       "      <td>50.82</td>\n",
       "      <td>51.11</td>\n",
       "      <td>50.67</td>\n",
       "    </tr>\n",
       "  </tbody>\n",
       "</table>\n",
       "</div>"
      ],
      "text/plain": [
       "            Close/Last    Volume   Open   High    Low\n",
       "Date                                                 \n",
       "2019-07-03        51.1  45448200  50.82  51.11  50.67"
      ]
     },
     "execution_count": 17,
     "metadata": {},
     "output_type": "execute_result"
    }
   ],
   "source": [
    "apple_cleaned[apple_cleaned['Volume']==apple_cleaned['Volume'].min()]\n",
    "\n",
    "#min volume on 07/03/2019 and volume is 45448200"
   ]
  },
  {
   "cell_type": "code",
   "execution_count": 18,
   "metadata": {},
   "outputs": [
    {
     "data": {
      "text/html": [
       "<div>\n",
       "<style scoped>\n",
       "    .dataframe tbody tr th:only-of-type {\n",
       "        vertical-align: middle;\n",
       "    }\n",
       "\n",
       "    .dataframe tbody tr th {\n",
       "        vertical-align: top;\n",
       "    }\n",
       "\n",
       "    .dataframe thead th {\n",
       "        text-align: right;\n",
       "    }\n",
       "</style>\n",
       "<table border=\"1\" class=\"dataframe\">\n",
       "  <thead>\n",
       "    <tr style=\"text-align: right;\">\n",
       "      <th></th>\n",
       "      <th>Close/Last</th>\n",
       "      <th>Open</th>\n",
       "      <th>High</th>\n",
       "      <th>Low</th>\n",
       "    </tr>\n",
       "    <tr>\n",
       "      <th>Date</th>\n",
       "      <th></th>\n",
       "      <th></th>\n",
       "      <th></th>\n",
       "      <th></th>\n",
       "    </tr>\n",
       "  </thead>\n",
       "  <tbody>\n",
       "    <tr>\n",
       "      <th>2021-06-09</th>\n",
       "      <td>127.13</td>\n",
       "      <td>127.21</td>\n",
       "      <td>127.75</td>\n",
       "      <td>126.52</td>\n",
       "    </tr>\n",
       "    <tr>\n",
       "      <th>2021-06-08</th>\n",
       "      <td>126.74</td>\n",
       "      <td>126.60</td>\n",
       "      <td>128.46</td>\n",
       "      <td>126.21</td>\n",
       "    </tr>\n",
       "    <tr>\n",
       "      <th>2021-06-07</th>\n",
       "      <td>125.90</td>\n",
       "      <td>126.17</td>\n",
       "      <td>126.32</td>\n",
       "      <td>124.83</td>\n",
       "    </tr>\n",
       "    <tr>\n",
       "      <th>2021-06-04</th>\n",
       "      <td>125.89</td>\n",
       "      <td>124.07</td>\n",
       "      <td>126.16</td>\n",
       "      <td>123.85</td>\n",
       "    </tr>\n",
       "    <tr>\n",
       "      <th>2021-06-03</th>\n",
       "      <td>123.54</td>\n",
       "      <td>124.68</td>\n",
       "      <td>124.85</td>\n",
       "      <td>123.13</td>\n",
       "    </tr>\n",
       "    <tr>\n",
       "      <th>...</th>\n",
       "      <td>...</td>\n",
       "      <td>...</td>\n",
       "      <td>...</td>\n",
       "      <td>...</td>\n",
       "    </tr>\n",
       "    <tr>\n",
       "      <th>2011-06-16</th>\n",
       "      <td>11.61</td>\n",
       "      <td>11.68</td>\n",
       "      <td>11.74</td>\n",
       "      <td>11.37</td>\n",
       "    </tr>\n",
       "    <tr>\n",
       "      <th>2011-06-15</th>\n",
       "      <td>11.67</td>\n",
       "      <td>11.78</td>\n",
       "      <td>11.80</td>\n",
       "      <td>11.60</td>\n",
       "    </tr>\n",
       "    <tr>\n",
       "      <th>2011-06-14</th>\n",
       "      <td>11.87</td>\n",
       "      <td>11.79</td>\n",
       "      <td>11.90</td>\n",
       "      <td>11.76</td>\n",
       "    </tr>\n",
       "    <tr>\n",
       "      <th>2011-06-13</th>\n",
       "      <td>11.66</td>\n",
       "      <td>11.69</td>\n",
       "      <td>11.73</td>\n",
       "      <td>11.61</td>\n",
       "    </tr>\n",
       "    <tr>\n",
       "      <th>2011-06-10</th>\n",
       "      <td>11.64</td>\n",
       "      <td>11.81</td>\n",
       "      <td>11.84</td>\n",
       "      <td>11.63</td>\n",
       "    </tr>\n",
       "  </tbody>\n",
       "</table>\n",
       "<p>2516 rows × 4 columns</p>\n",
       "</div>"
      ],
      "text/plain": [
       "            Close/Last    Open    High     Low\n",
       "Date                                          \n",
       "2021-06-09      127.13  127.21  127.75  126.52\n",
       "2021-06-08      126.74  126.60  128.46  126.21\n",
       "2021-06-07      125.90  126.17  126.32  124.83\n",
       "2021-06-04      125.89  124.07  126.16  123.85\n",
       "2021-06-03      123.54  124.68  124.85  123.13\n",
       "...                ...     ...     ...     ...\n",
       "2011-06-16       11.61   11.68   11.74   11.37\n",
       "2011-06-15       11.67   11.78   11.80   11.60\n",
       "2011-06-14       11.87   11.79   11.90   11.76\n",
       "2011-06-13       11.66   11.69   11.73   11.61\n",
       "2011-06-10       11.64   11.81   11.84   11.63\n",
       "\n",
       "[2516 rows x 4 columns]"
      ]
     },
     "execution_count": 18,
     "metadata": {},
     "output_type": "execute_result"
    }
   ],
   "source": [
    "# volume feature dropping\n",
    "apple_cleaned = apple_cleaned.drop(['Volume'],axis=1)\n",
    "apple_cleaned"
   ]
  },
  {
   "cell_type": "code",
   "execution_count": 19,
   "metadata": {},
   "outputs": [],
   "source": [
    "import datetime\n",
    "apple_cleaned = apple_cleaned.loc['2021-06-09':'2015-01-01']"
   ]
  },
  {
   "cell_type": "code",
   "execution_count": 23,
   "metadata": {},
   "outputs": [],
   "source": [
    "apple_cleaned = apple_cleaned.rename(columns={'Close/Last':'Close'})"
   ]
  },
  {
   "cell_type": "code",
   "execution_count": 24,
   "metadata": {},
   "outputs": [
    {
     "data": {
      "text/html": [
       "<div>\n",
       "<style scoped>\n",
       "    .dataframe tbody tr th:only-of-type {\n",
       "        vertical-align: middle;\n",
       "    }\n",
       "\n",
       "    .dataframe tbody tr th {\n",
       "        vertical-align: top;\n",
       "    }\n",
       "\n",
       "    .dataframe thead th {\n",
       "        text-align: right;\n",
       "    }\n",
       "</style>\n",
       "<table border=\"1\" class=\"dataframe\">\n",
       "  <thead>\n",
       "    <tr style=\"text-align: right;\">\n",
       "      <th></th>\n",
       "      <th>Close</th>\n",
       "      <th>Open</th>\n",
       "      <th>High</th>\n",
       "      <th>Low</th>\n",
       "    </tr>\n",
       "  </thead>\n",
       "  <tbody>\n",
       "    <tr>\n",
       "      <th>count</th>\n",
       "      <td>1620.000000</td>\n",
       "      <td>1620.000000</td>\n",
       "      <td>1620.000000</td>\n",
       "      <td>1620.000000</td>\n",
       "    </tr>\n",
       "    <tr>\n",
       "      <th>mean</th>\n",
       "      <td>53.529463</td>\n",
       "      <td>53.512191</td>\n",
       "      <td>54.082272</td>\n",
       "      <td>52.936605</td>\n",
       "    </tr>\n",
       "    <tr>\n",
       "      <th>std</th>\n",
       "      <td>31.552344</td>\n",
       "      <td>31.583081</td>\n",
       "      <td>31.994067</td>\n",
       "      <td>31.099026</td>\n",
       "    </tr>\n",
       "    <tr>\n",
       "      <th>min</th>\n",
       "      <td>22.580000</td>\n",
       "      <td>22.500000</td>\n",
       "      <td>22.920000</td>\n",
       "      <td>22.370000</td>\n",
       "    </tr>\n",
       "    <tr>\n",
       "      <th>25%</th>\n",
       "      <td>30.500000</td>\n",
       "      <td>30.530000</td>\n",
       "      <td>30.820000</td>\n",
       "      <td>30.375000</td>\n",
       "    </tr>\n",
       "    <tr>\n",
       "      <th>50%</th>\n",
       "      <td>42.795000</td>\n",
       "      <td>42.830000</td>\n",
       "      <td>43.225000</td>\n",
       "      <td>42.450000</td>\n",
       "    </tr>\n",
       "    <tr>\n",
       "      <th>75%</th>\n",
       "      <td>60.612500</td>\n",
       "      <td>60.497500</td>\n",
       "      <td>61.345000</td>\n",
       "      <td>59.397500</td>\n",
       "    </tr>\n",
       "    <tr>\n",
       "      <th>max</th>\n",
       "      <td>143.160000</td>\n",
       "      <td>143.600000</td>\n",
       "      <td>145.090000</td>\n",
       "      <td>141.370000</td>\n",
       "    </tr>\n",
       "  </tbody>\n",
       "</table>\n",
       "</div>"
      ],
      "text/plain": [
       "             Close         Open         High          Low\n",
       "count  1620.000000  1620.000000  1620.000000  1620.000000\n",
       "mean     53.529463    53.512191    54.082272    52.936605\n",
       "std      31.552344    31.583081    31.994067    31.099026\n",
       "min      22.580000    22.500000    22.920000    22.370000\n",
       "25%      30.500000    30.530000    30.820000    30.375000\n",
       "50%      42.795000    42.830000    43.225000    42.450000\n",
       "75%      60.612500    60.497500    61.345000    59.397500\n",
       "max     143.160000   143.600000   145.090000   141.370000"
      ]
     },
     "execution_count": 24,
     "metadata": {},
     "output_type": "execute_result"
    }
   ],
   "source": [
    "apple_cleaned.describe()"
   ]
  },
  {
   "cell_type": "code",
   "execution_count": 34,
   "metadata": {},
   "outputs": [
    {
     "data": {
      "text/plain": [
       "Close    0\n",
       "Open     0\n",
       "High     0\n",
       "Low      0\n",
       "dtype: int64"
      ]
     },
     "execution_count": 34,
     "metadata": {},
     "output_type": "execute_result"
    }
   ],
   "source": [
    "apple_cleaned.isnull().sum()"
   ]
  },
  {
   "cell_type": "code",
   "execution_count": 25,
   "metadata": {},
   "outputs": [
    {
     "data": {
      "text/plain": [
       "<AxesSubplot:>"
      ]
     },
     "execution_count": 25,
     "metadata": {},
     "output_type": "execute_result"
    },
    {
     "data": {
      "image/png": "[encoded data removed]",
      "text/plain": [
       "<Figure size 1080x432 with 1 Axes>"
      ]
     },
     "metadata": {
      "needs_background": "light"
     },
     "output_type": "display_data"
    }
   ],
   "source": [
    "apple_cleaned.boxplot(figsize=(15,6))"
   ]
  },
  {
   "cell_type": "code",
   "execution_count": 27,
   "metadata": {},
   "outputs": [
    {
     "data": {
      "image/png": "[encoded data removed]",
      "text/plain": [
       "<Figure size 1080x576 with 4 Axes>"
      ]
     },
     "metadata": {
      "needs_background": "light"
     },
     "output_type": "display_data"
    }
   ],
   "source": [
    "fig, axes = plt.subplots(2, 2,figsize=(15,8), sharey=True)\n",
    "fig.suptitle('Apple stock data')\n",
    "\n",
    "\n",
    "sns.lineplot(ax=axes[0,0], x=apple_cleaned.index, y=apple_cleaned['Close'])\n",
    "plt.title('Close/last')\n",
    "\n",
    "sns.lineplot(ax=axes[0,1], x=apple_cleaned.index, y=apple_cleaned['Open'])\n",
    "plt.title('Open')\n",
    "\n",
    "sns.lineplot(ax=axes[1,0], x=apple_cleaned.index, y=apple_cleaned['High'])\n",
    "plt.title('High')\n",
    "\n",
    "sns.lineplot(ax=axes[1,1], x=apple_cleaned.index, y=apple_cleaned['Low'])\n",
    "plt.title('Low')\n",
    "\n",
    "plt.show()"
   ]
  },
  {
   "cell_type": "code",
   "execution_count": 28,
   "metadata": {},
   "outputs": [],
   "source": [
    "X = apple_cleaned.iloc[:,1:4]"
   ]
  },
  {
   "cell_type": "code",
   "execution_count": 29,
   "metadata": {},
   "outputs": [],
   "source": [
    "Y = apple_cleaned.iloc[:,0]"
   ]
  },
  {
   "cell_type": "code",
   "execution_count": 30,
   "metadata": {},
   "outputs": [],
   "source": [
    "from sklearn.model_selection import train_test_split"
   ]
  },
  {
   "cell_type": "code",
   "execution_count": 31,
   "metadata": {},
   "outputs": [],
   "source": [
    "xtrain,xtest,ytrain,ytest = train_test_split(X,Y,test_size=0.3)"
   ]
  },
  {
   "cell_type": "code",
   "execution_count": 33,
   "metadata": {},
   "outputs": [
    {
     "data": {
      "text/plain": [
       "((1134, 3), (486, 3), (1134,), (486,))"
      ]
     },
     "execution_count": 33,
     "metadata": {},
     "output_type": "execute_result"
    }
   ],
   "source": [
    "xtrain.shape,xtest.shape,ytrain.shape,ytest.shape"
   ]
  },
  {
   "cell_type": "code",
   "execution_count": null,
   "metadata": {},
   "outputs": [],
   "source": []
  },
  {
   "cell_type": "code",
   "execution_count": null,
   "metadata": {},
   "outputs": [],
   "source": []
  },
  {
   "cell_type": "code",
   "execution_count": null,
   "metadata": {},
   "outputs": [],
   "source": []
  },
  {
   "cell_type": "code",
   "execution_count": 35,
   "metadata": {},
   "outputs": [],
   "source": [
    "from sklearn.linear_model import LinearRegression"
   ]
  },
  {
   "cell_type": "code",
   "execution_count": 36,
   "metadata": {},
   "outputs": [],
   "source": [
    "lr = LinearRegression()"
   ]
  },
  {
   "cell_type": "code",
   "execution_count": 37,
   "metadata": {},
   "outputs": [],
   "source": [
    "model = lr.fit(xtrain,ytrain)"
   ]
  },
  {
   "cell_type": "code",
   "execution_count": 38,
   "metadata": {},
   "outputs": [],
   "source": [
    "ypred = model.predict(xtest)"
   ]
  },
  {
   "cell_type": "code",
   "execution_count": 39,
   "metadata": {},
   "outputs": [],
   "source": [
    "from sklearn.metrics import accuracy_score"
   ]
  },
  {
   "cell_type": "code",
   "execution_count": 40,
   "metadata": {},
   "outputs": [
    {
     "data": {
      "text/plain": [
       "array([-0.52418477,  0.77360069,  0.74984314])"
      ]
     },
     "execution_count": 40,
     "metadata": {},
     "output_type": "execute_result"
    }
   ],
   "source": [
    "lr.coef_"
   ]
  },
  {
   "cell_type": "code",
   "execution_count": 41,
   "metadata": {},
   "outputs": [],
   "source": [
    "from sklearn.metrics import r2_score,mean_squared_error\n",
    "from math import sqrt"
   ]
  },
  {
   "cell_type": "code",
   "execution_count": 42,
   "metadata": {},
   "outputs": [
    {
     "data": {
      "text/plain": [
       "0.9997889406856828"
      ]
     },
     "execution_count": 42,
     "metadata": {},
     "output_type": "execute_result"
    }
   ],
   "source": [
    "r2_score(ytest,ypred)"
   ]
  },
  {
   "cell_type": "code",
   "execution_count": 43,
   "metadata": {},
   "outputs": [
    {
     "data": {
      "text/plain": [
       "0.48464462328431235"
      ]
     },
     "execution_count": 43,
     "metadata": {},
     "output_type": "execute_result"
    }
   ],
   "source": [
    "mse_test = sqrt(mean_squared_error(ytest,ypred))\n",
    "mse_test"
   ]
  },
  {
   "cell_type": "code",
   "execution_count": 44,
   "metadata": {},
   "outputs": [
    {
     "data": {
      "text/plain": [
       "0.48143174692536966"
      ]
     },
     "execution_count": 44,
     "metadata": {},
     "output_type": "execute_result"
    }
   ],
   "source": [
    "mse_train = sqrt(mean_squared_error(ytrain,model.predict(xtrain)))\n",
    "mse_train "
   ]
  },
  {
   "cell_type": "code",
   "execution_count": null,
   "metadata": {},
   "outputs": [],
   "source": []
  },
  {
   "cell_type": "code",
   "execution_count": null,
   "metadata": {},
   "outputs": [],
   "source": []
  },
  {
   "cell_type": "code",
   "execution_count": null,
   "metadata": {},
   "outputs": [],
   "source": []
  },
  {
   "cell_type": "code",
   "execution_count": null,
   "metadata": {},
   "outputs": [],
   "source": []
  },
  {
   "cell_type": "code",
   "execution_count": null,
   "metadata": {},
   "outputs": [],
   "source": []
  },
  {
   "cell_type": "code",
   "execution_count": null,
   "metadata": {},
   "outputs": [],
   "source": []
  }
 ],
 "metadata": {
  "kernelspec": {
   "display_name": "Python 3",
   "language": "python",
   "name": "python3"
  },
  "language_info": {
   "codemirror_mode": {
    "name": "ipython",
    "version": 3
   },
   "file_extension": ".py",
   "mimetype": "text/x-python",
   "name": "python",
   "nbconvert_exporter": "python",
   "pygments_lexer": "ipython3",
   "version": "3.8.5"
  }
 },
 "nbformat": 4,
 "nbformat_minor": 4
}
